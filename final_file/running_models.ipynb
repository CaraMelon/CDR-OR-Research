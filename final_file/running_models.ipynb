{
 "cells": [
  {
   "cell_type": "markdown",
   "metadata": {},
   "source": [
    "# Table of contents \n",
    "1. [Running Models](#running_model)\n",
    "    1. [Real Data](#real_data)\n",
    "        1. [Final Need Output](#final_need_output)\n",
    "    2. [Dummy Data](#dummy_data)\n",
    "        1. [Testing 8 Groups for Symmetric Improvements & Disimprovements](#10_groups_sym)\n",
    "            1. [Group 1](#dummy_group_1)"
   ]
  },
  {
   "cell_type": "code",
   "execution_count": 1,
   "metadata": {},
   "outputs": [],
   "source": [
    "%run decision_support_model.ipynb"
   ]
  },
  {
   "cell_type": "code",
   "execution_count": 2,
   "metadata": {},
   "outputs": [],
   "source": [
    "#Some useful settings\n",
    "#np.set_printoptions(threshold=sys.maxsize)\n",
    "#%pprint\n",
    "#pd.set_option('display.max_rows', None)\n",
    "#pd.set_option('display.max_rows', 10)\n",
    "#pd.set_option('display.max_columns', None)"
   ]
  },
  {
   "cell_type": "markdown",
   "metadata": {},
   "source": [
    "## Running Model <a name=\"running_model\"></a>"
   ]
  },
  {
   "cell_type": "raw",
   "metadata": {},
   "source": [
    "Dummy Data:\n",
    "1.  5 correlated with IBHS, 5 correlated with FBMHS, 80 random, only\n",
    "improvements, 30 patients.\n",
    "\n",
    "\n",
    "Real Data:\n",
    "9. Real data, 100 patients.\n",
    "10. Real data 1000 patients (or as many as possible with not too large\n",
    "a run time)"
   ]
  },
  {
   "cell_type": "markdown",
   "metadata": {},
   "source": [
    "### Real Data <a name=\"real_data\"></a>"
   ]
  },
  {
   "cell_type": "markdown",
   "metadata": {},
   "source": [
    "data name: ibhs_all_imp and fbmhs_all_imp"
   ]
  },
  {
   "cell_type": "code",
   "execution_count": 3,
   "metadata": {},
   "outputs": [
    {
     "name": "stdout",
     "output_type": "stream",
     "text": [
      "There are  3819 IBHS Patients\n",
      "There are  2075 FBMH Patients\n",
      "Total, we have 5894 patients\n"
     ]
    }
   ],
   "source": [
    "old_ibhs_df = pd.read_csv('ibhs_all_improv_table.csv')\n",
    "old_fbmh_df = pd.read_csv('fbmhs_all_improv_table.csv')\n",
    "print(\"There are \", old_ibhs_df.shape[0], \"IBHS Patients\")\n",
    "print(\"There are \", old_fbmh_df.shape[0], \"FBMH Patients\")\n",
    "print('Total, we have', old_ibhs_df.shape[0]+old_fbmh_df.shape[0], 'patients')"
   ]
  },
  {
   "cell_type": "code",
   "execution_count": 4,
   "metadata": {},
   "outputs": [],
   "source": [
    "all_column_names = ['pp01', 'pp02', 'pp03', 'pp04', \n",
    "                    'pp05', 'pp06', 'pp07', 'pp08', \n",
    "                    'pp09', 'pp10', 'pp11', 'pp12', \n",
    "                    'pp13', 'pp14', 'pp15', 'pp16', \n",
    "                    'pp17', 'pp18', 'pp19', 'rb01', \n",
    "                    'rb02', 'rb03', 'rb04', 'rb05', \n",
    "                    'rb06', 'rb07', 'rb08', 'rb09', \n",
    "                    'rb10', 'rb11', 'rb12', 'rb13', \n",
    "                    'rb14', 'rb15', 'rb16', 'rb17', \n",
    "                    'rb18', 'rb19', 'rb20', 'rb21', \n",
    "                    'rb22', 'rb23', 'rb24', 'rb25', \n",
    "                    'rb26', 'rb27', 'rb28', 'fu01', \n",
    "                    'fu02', 'fu03', 'fu04', 'fu05', \n",
    "                    'fu06', 'fu07', 'fu08', 'fu09', \n",
    "                    'fu10', 'fu11', 'fu12', 'fu13', \n",
    "                    'fu14', 'fu15', 'fu16', 'fu17', \n",
    "                    'fu18', 'fu19', 'fu20', 'fu21', \n",
    "                    'fu22', 'fu23', 'fu24', 'fu25', \n",
    "                    'fu26', 'fu27', 'cs01', 'cn01', \n",
    "                    'cn02', 'cn03', 'cn04', 'cn05', \n",
    "                    'cn06', 'cn07', 'st01', 'st02', \n",
    "                    'st03', 'st04', 'st05', 'st06', \n",
    "                    'st07', 'st08', 'st09', 'st10', 'st11', 'st12']"
   ]
  },
  {
   "cell_type": "code",
   "execution_count": 5,
   "metadata": {},
   "outputs": [],
   "source": [
    "# keep only 53 top-level items\n",
    "# change index into column names\n",
    "old_ibhs_df.columns = all_column_names\n",
    "old_fbmh_df.columns = all_column_names\n",
    "# keep the needed columns \n",
    "column_names_df = pd.read_csv('CANS Items for MILP Profile - Sheet1.csv')\n",
    "column_names = list(column_names_df['Standradized Field'])\n",
    "ibhs_df = old_ibhs_df[column_names]\n",
    "fbmh_df = old_fbmh_df[column_names]\n",
    "#change index back to integer \n",
    "index = [i for i in range(53)]\n",
    "ibhs_df.columns = index\n",
    "fbmh_df.columns = index"
   ]
  },
  {
   "cell_type": "raw",
   "metadata": {},
   "source": [
    "Final Results"
   ]
  },
  {
   "cell_type": "code",
   "execution_count": 6,
   "metadata": {},
   "outputs": [
    {
     "name": "stdout",
     "output_type": "stream",
     "text": [
      "Using license file /Users/carayi/gurobi.lic\n",
      "Academic license - for non-commercial use only\n"
     ]
    }
   ],
   "source": [
    "xneed_real = twosum_improvement_xneed(ibhs_df, fbmh_df, groups_num = 100)"
   ]
  },
  {
   "cell_type": "code",
   "execution_count": 7,
   "metadata": {},
   "outputs": [
    {
     "data": {
      "text/html": [
       "<div>\n",
       "<style scoped>\n",
       "    .dataframe tbody tr th:only-of-type {\n",
       "        vertical-align: middle;\n",
       "    }\n",
       "\n",
       "    .dataframe tbody tr th {\n",
       "        vertical-align: top;\n",
       "    }\n",
       "\n",
       "    .dataframe thead th {\n",
       "        text-align: right;\n",
       "    }\n",
       "</style>\n",
       "<table border=\"1\" class=\"dataframe\">\n",
       "  <thead>\n",
       "    <tr style=\"text-align: right;\">\n",
       "      <th></th>\n",
       "      <th>0</th>\n",
       "      <th>1</th>\n",
       "      <th>2</th>\n",
       "      <th>3</th>\n",
       "      <th>4</th>\n",
       "      <th>5</th>\n",
       "      <th>6</th>\n",
       "      <th>7</th>\n",
       "      <th>8</th>\n",
       "      <th>9</th>\n",
       "      <th>...</th>\n",
       "      <th>43</th>\n",
       "      <th>44</th>\n",
       "      <th>45</th>\n",
       "      <th>46</th>\n",
       "      <th>47</th>\n",
       "      <th>48</th>\n",
       "      <th>49</th>\n",
       "      <th>50</th>\n",
       "      <th>51</th>\n",
       "      <th>52</th>\n",
       "    </tr>\n",
       "  </thead>\n",
       "  <tbody>\n",
       "    <tr>\n",
       "      <td>0</td>\n",
       "      <td>0</td>\n",
       "      <td>-1</td>\n",
       "      <td>0</td>\n",
       "      <td>1</td>\n",
       "      <td>1</td>\n",
       "      <td>0</td>\n",
       "      <td>2</td>\n",
       "      <td>0</td>\n",
       "      <td>2</td>\n",
       "      <td>0</td>\n",
       "      <td>...</td>\n",
       "      <td>0</td>\n",
       "      <td>-1</td>\n",
       "      <td>1</td>\n",
       "      <td>1</td>\n",
       "      <td>0</td>\n",
       "      <td>-1</td>\n",
       "      <td>0</td>\n",
       "      <td>0</td>\n",
       "      <td>-1</td>\n",
       "      <td>0</td>\n",
       "    </tr>\n",
       "    <tr>\n",
       "      <td>1</td>\n",
       "      <td>0</td>\n",
       "      <td>1</td>\n",
       "      <td>0</td>\n",
       "      <td>1</td>\n",
       "      <td>2</td>\n",
       "      <td>0</td>\n",
       "      <td>0</td>\n",
       "      <td>0</td>\n",
       "      <td>0</td>\n",
       "      <td>0</td>\n",
       "      <td>...</td>\n",
       "      <td>1</td>\n",
       "      <td>1</td>\n",
       "      <td>2</td>\n",
       "      <td>1</td>\n",
       "      <td>1</td>\n",
       "      <td>1</td>\n",
       "      <td>2</td>\n",
       "      <td>1</td>\n",
       "      <td>0</td>\n",
       "      <td>0</td>\n",
       "    </tr>\n",
       "    <tr>\n",
       "      <td>2</td>\n",
       "      <td>-2</td>\n",
       "      <td>0</td>\n",
       "      <td>0</td>\n",
       "      <td>-1</td>\n",
       "      <td>0</td>\n",
       "      <td>-1</td>\n",
       "      <td>-2</td>\n",
       "      <td>0</td>\n",
       "      <td>0</td>\n",
       "      <td>1</td>\n",
       "      <td>...</td>\n",
       "      <td>0</td>\n",
       "      <td>2</td>\n",
       "      <td>0</td>\n",
       "      <td>0</td>\n",
       "      <td>0</td>\n",
       "      <td>-1</td>\n",
       "      <td>1</td>\n",
       "      <td>-1</td>\n",
       "      <td>0</td>\n",
       "      <td>0</td>\n",
       "    </tr>\n",
       "    <tr>\n",
       "      <td>3</td>\n",
       "      <td>-2</td>\n",
       "      <td>0</td>\n",
       "      <td>0</td>\n",
       "      <td>0</td>\n",
       "      <td>0</td>\n",
       "      <td>-1</td>\n",
       "      <td>0</td>\n",
       "      <td>0</td>\n",
       "      <td>0</td>\n",
       "      <td>-1</td>\n",
       "      <td>...</td>\n",
       "      <td>0</td>\n",
       "      <td>-1</td>\n",
       "      <td>0</td>\n",
       "      <td>0</td>\n",
       "      <td>0</td>\n",
       "      <td>1</td>\n",
       "      <td>0</td>\n",
       "      <td>-1</td>\n",
       "      <td>-1</td>\n",
       "      <td>-1</td>\n",
       "    </tr>\n",
       "    <tr>\n",
       "      <td>4</td>\n",
       "      <td>0</td>\n",
       "      <td>-1</td>\n",
       "      <td>-1</td>\n",
       "      <td>-1</td>\n",
       "      <td>1</td>\n",
       "      <td>-1</td>\n",
       "      <td>1</td>\n",
       "      <td>0</td>\n",
       "      <td>0</td>\n",
       "      <td>0</td>\n",
       "      <td>...</td>\n",
       "      <td>0</td>\n",
       "      <td>0</td>\n",
       "      <td>1</td>\n",
       "      <td>0</td>\n",
       "      <td>1</td>\n",
       "      <td>0</td>\n",
       "      <td>-1</td>\n",
       "      <td>0</td>\n",
       "      <td>0</td>\n",
       "      <td>0</td>\n",
       "    </tr>\n",
       "    <tr>\n",
       "      <td>...</td>\n",
       "      <td>...</td>\n",
       "      <td>...</td>\n",
       "      <td>...</td>\n",
       "      <td>...</td>\n",
       "      <td>...</td>\n",
       "      <td>...</td>\n",
       "      <td>...</td>\n",
       "      <td>...</td>\n",
       "      <td>...</td>\n",
       "      <td>...</td>\n",
       "      <td>...</td>\n",
       "      <td>...</td>\n",
       "      <td>...</td>\n",
       "      <td>...</td>\n",
       "      <td>...</td>\n",
       "      <td>...</td>\n",
       "      <td>...</td>\n",
       "      <td>...</td>\n",
       "      <td>...</td>\n",
       "      <td>...</td>\n",
       "      <td>...</td>\n",
       "    </tr>\n",
       "    <tr>\n",
       "      <td>3814</td>\n",
       "      <td>0</td>\n",
       "      <td>0</td>\n",
       "      <td>0</td>\n",
       "      <td>1</td>\n",
       "      <td>1</td>\n",
       "      <td>0</td>\n",
       "      <td>1</td>\n",
       "      <td>0</td>\n",
       "      <td>0</td>\n",
       "      <td>0</td>\n",
       "      <td>...</td>\n",
       "      <td>0</td>\n",
       "      <td>1</td>\n",
       "      <td>-3</td>\n",
       "      <td>0</td>\n",
       "      <td>1</td>\n",
       "      <td>0</td>\n",
       "      <td>0</td>\n",
       "      <td>0</td>\n",
       "      <td>0</td>\n",
       "      <td>0</td>\n",
       "    </tr>\n",
       "    <tr>\n",
       "      <td>3815</td>\n",
       "      <td>0</td>\n",
       "      <td>0</td>\n",
       "      <td>0</td>\n",
       "      <td>0</td>\n",
       "      <td>0</td>\n",
       "      <td>0</td>\n",
       "      <td>0</td>\n",
       "      <td>0</td>\n",
       "      <td>0</td>\n",
       "      <td>0</td>\n",
       "      <td>...</td>\n",
       "      <td>0</td>\n",
       "      <td>0</td>\n",
       "      <td>0</td>\n",
       "      <td>0</td>\n",
       "      <td>0</td>\n",
       "      <td>0</td>\n",
       "      <td>-3</td>\n",
       "      <td>0</td>\n",
       "      <td>-2</td>\n",
       "      <td>-2</td>\n",
       "    </tr>\n",
       "    <tr>\n",
       "      <td>3816</td>\n",
       "      <td>0</td>\n",
       "      <td>1</td>\n",
       "      <td>0</td>\n",
       "      <td>1</td>\n",
       "      <td>0</td>\n",
       "      <td>0</td>\n",
       "      <td>1</td>\n",
       "      <td>0</td>\n",
       "      <td>0</td>\n",
       "      <td>0</td>\n",
       "      <td>...</td>\n",
       "      <td>0</td>\n",
       "      <td>0</td>\n",
       "      <td>0</td>\n",
       "      <td>1</td>\n",
       "      <td>0</td>\n",
       "      <td>0</td>\n",
       "      <td>0</td>\n",
       "      <td>0</td>\n",
       "      <td>0</td>\n",
       "      <td>0</td>\n",
       "    </tr>\n",
       "    <tr>\n",
       "      <td>3817</td>\n",
       "      <td>0</td>\n",
       "      <td>0</td>\n",
       "      <td>0</td>\n",
       "      <td>0</td>\n",
       "      <td>0</td>\n",
       "      <td>0</td>\n",
       "      <td>0</td>\n",
       "      <td>0</td>\n",
       "      <td>0</td>\n",
       "      <td>0</td>\n",
       "      <td>...</td>\n",
       "      <td>0</td>\n",
       "      <td>0</td>\n",
       "      <td>0</td>\n",
       "      <td>0</td>\n",
       "      <td>0</td>\n",
       "      <td>0</td>\n",
       "      <td>0</td>\n",
       "      <td>0</td>\n",
       "      <td>0</td>\n",
       "      <td>0</td>\n",
       "    </tr>\n",
       "    <tr>\n",
       "      <td>3818</td>\n",
       "      <td>0</td>\n",
       "      <td>0</td>\n",
       "      <td>0</td>\n",
       "      <td>0</td>\n",
       "      <td>0</td>\n",
       "      <td>0</td>\n",
       "      <td>0</td>\n",
       "      <td>0</td>\n",
       "      <td>0</td>\n",
       "      <td>0</td>\n",
       "      <td>...</td>\n",
       "      <td>0</td>\n",
       "      <td>0</td>\n",
       "      <td>0</td>\n",
       "      <td>0</td>\n",
       "      <td>0</td>\n",
       "      <td>0</td>\n",
       "      <td>0</td>\n",
       "      <td>0</td>\n",
       "      <td>0</td>\n",
       "      <td>0</td>\n",
       "    </tr>\n",
       "  </tbody>\n",
       "</table>\n",
       "<p>3819 rows × 53 columns</p>\n",
       "</div>"
      ],
      "text/plain": [
       "      0   1   2   3   4   5   6   7   8   9   ...  43  44  45  46  47  48  49  \\\n",
       "0      0  -1   0   1   1   0   2   0   2   0  ...   0  -1   1   1   0  -1   0   \n",
       "1      0   1   0   1   2   0   0   0   0   0  ...   1   1   2   1   1   1   2   \n",
       "2     -2   0   0  -1   0  -1  -2   0   0   1  ...   0   2   0   0   0  -1   1   \n",
       "3     -2   0   0   0   0  -1   0   0   0  -1  ...   0  -1   0   0   0   1   0   \n",
       "4      0  -1  -1  -1   1  -1   1   0   0   0  ...   0   0   1   0   1   0  -1   \n",
       "...   ..  ..  ..  ..  ..  ..  ..  ..  ..  ..  ...  ..  ..  ..  ..  ..  ..  ..   \n",
       "3814   0   0   0   1   1   0   1   0   0   0  ...   0   1  -3   0   1   0   0   \n",
       "3815   0   0   0   0   0   0   0   0   0   0  ...   0   0   0   0   0   0  -3   \n",
       "3816   0   1   0   1   0   0   1   0   0   0  ...   0   0   0   1   0   0   0   \n",
       "3817   0   0   0   0   0   0   0   0   0   0  ...   0   0   0   0   0   0   0   \n",
       "3818   0   0   0   0   0   0   0   0   0   0  ...   0   0   0   0   0   0   0   \n",
       "\n",
       "      50  51  52  \n",
       "0      0  -1   0  \n",
       "1      1   0   0  \n",
       "2     -1   0   0  \n",
       "3     -1  -1  -1  \n",
       "4      0   0   0  \n",
       "...   ..  ..  ..  \n",
       "3814   0   0   0  \n",
       "3815   0  -2  -2  \n",
       "3816   0   0   0  \n",
       "3817   0   0   0  \n",
       "3818   0   0   0  \n",
       "\n",
       "[3819 rows x 53 columns]"
      ]
     },
     "execution_count": 7,
     "metadata": {},
     "output_type": "execute_result"
    }
   ],
   "source": [
    "#initial - final\n",
    "ibhs_df "
   ]
  },
  {
   "cell_type": "code",
   "execution_count": 8,
   "metadata": {},
   "outputs": [
    {
     "data": {
      "text/plain": [
       "array([ 0.38,  0.26, -0.42,  0.74,  0.44,  0.34,  0.34,  0.2 ,  0.78,\n",
       "        0.78,  0.44,  0.08,  0.28, -0.06,  0.58,  0.04,  0.  ,  0.42,\n",
       "        0.16,  0.14,  0.  , -0.14, -0.02,  0.6 ,  0.32,  0.04,  0.36,\n",
       "       -0.14,  0.5 ,  0.38, -0.8 , -0.78, -0.74,  0.7 ,  0.58,  0.72,\n",
       "        0.64,  0.76,  0.5 ,  0.48,  0.46,  0.5 ,  0.08,  0.56,  0.04,\n",
       "        0.1 ,  0.16,  0.06, -0.4 , -0.04,  0.18,  0.16,  0.12])"
      ]
     },
     "execution_count": 8,
     "metadata": {},
     "output_type": "execute_result"
    }
   ],
   "source": [
    "xneed_real"
   ]
  },
  {
   "cell_type": "code",
   "execution_count": 9,
   "metadata": {},
   "outputs": [],
   "source": [
    "# run the model for 60 times\n",
    "n = 60\n",
    "total = np.array([0.0 for i in range(53)])\n",
    "for i in range(n):\n",
    "    xneed_real = twosum_improvement_xneed(ibhs_df, fbmh_df, groups_num = 100)\n",
    "    total += xneed_real"
   ]
  },
  {
   "cell_type": "code",
   "execution_count": 10,
   "metadata": {},
   "outputs": [],
   "source": [
    "final_need = total/60"
   ]
  },
  {
   "cell_type": "code",
   "execution_count": 18,
   "metadata": {},
   "outputs": [
    {
     "data": {
      "text/plain": [
       "array([ 3.30000000e-01,  3.40666667e-01, -3.90666667e-01,  7.41333333e-01,\n",
       "        3.81666667e-01,  3.13333333e-01,  3.82333333e-01,  2.55333333e-01,\n",
       "        7.51666667e-01,  8.65666667e-01,  4.13000000e-01,  1.23333333e-02,\n",
       "        3.81666667e-01, -1.38666667e-01,  4.77666667e-01,  1.31000000e-01,\n",
       "        4.83333333e-02,  3.88333333e-01,  1.64333333e-01,  6.00000000e-03,\n",
       "        2.50000000e-02, -1.03333333e-01, -3.33333333e-04,  5.85666667e-01,\n",
       "        3.16666667e-01,  6.10000000e-02,  4.21666667e-01, -6.03333333e-02,\n",
       "        5.15666667e-01,  4.54666667e-01, -7.12000000e-01, -6.91333333e-01,\n",
       "       -7.03000000e-01,  7.16000000e-01,  4.62333333e-01,  6.55333333e-01,\n",
       "        6.19666667e-01,  7.00666667e-01,  4.95000000e-01,  5.04666667e-01,\n",
       "        3.73000000e-01,  5.86000000e-01,  3.66666667e-02,  5.49000000e-01,\n",
       "        2.20000000e-02,  2.60000000e-02,  1.34666667e-01,  7.33333333e-02,\n",
       "       -3.91666667e-01, -1.36666667e-02,  1.55333333e-01,  1.54000000e-01,\n",
       "        1.12666667e-01])"
      ]
     },
     "execution_count": 18,
     "metadata": {},
     "output_type": "execute_result"
    }
   ],
   "source": [
    "final_need"
   ]
  },
  {
   "cell_type": "markdown",
   "metadata": {},
   "source": [
    "#### Final Need Output <a name=\"final_need_output\"></a>"
   ]
  },
  {
   "cell_type": "code",
   "execution_count": 22,
   "metadata": {},
   "outputs": [],
   "source": [
    "#dictt = pd.read_csv('clean_fbmh_df.csv')\n",
    "def map_to_real_need(need):\n",
    "    return list(dictt.columns).index(need)\n",
    "\n",
    "def map_to_need(number):\n",
    "    return list(dictt.columns)[number + 1]\n",
    "\n",
    "def write_to_final_needs(needs, filename):\n",
    "    \n",
    "    # writing to csv file \n",
    "    final_need_df = pd.DataFrame()\n",
    "    final_need_df['needs'] = list(column_names_df['CDR CANS Label'])\n",
    "    final_need_df['coef'] = final_need\n",
    "\n",
    "    final_need_df.to_csv(filename, sep='\\t')\n",
    "    with open(filename, 'w') as csvfile: \n",
    "        # creating a csv writer object \n",
    "        csvwriter = csv.writer(csvfile) \n",
    "        \n",
    "        # writing the fields \n",
    "        csvwriter.writerow(column_names) \n",
    "\n",
    "        # writing the data rows \n",
    "        csvwriter.writerows([list(needs)])"
   ]
  },
  {
   "cell_type": "code",
   "execution_count": 23,
   "metadata": {},
   "outputs": [],
   "source": [
    "write_to_final_needs(final_need, 'final_need_coefficient.csv')"
   ]
  },
  {
   "cell_type": "markdown",
   "metadata": {},
   "source": [
    "### Dummy Data <a name=\"dummy_data\"></a>"
   ]
  },
  {
   "cell_type": "markdown",
   "metadata": {},
   "source": [
    "#### Group 1 : <a name=\"dummy_group_1\"></a>\n",
    "5 correlated with IBHS, 5 correlated with FBMHS, 80 random, only\n",
    "improvements, 30 patients"
   ]
  },
  {
   "cell_type": "code",
   "execution_count": 32,
   "metadata": {},
   "outputs": [],
   "source": [
    "test_dummy_1_ibhs, test_dummy_1_fbmh = import_data('dummy_group_1_origin.csv')"
   ]
  },
  {
   "cell_type": "code",
   "execution_count": 33,
   "metadata": {},
   "outputs": [],
   "source": [
    "xneed_1 = twosum_improvement_xneed(test_dummy_1_ibhs, test_dummy_1_fbmh, groups_num = 3)"
   ]
  },
  {
   "cell_type": "code",
   "execution_count": 34,
   "metadata": {},
   "outputs": [
    {
     "data": {
      "text/plain": [
       "array([-1.        , -1.        , -1.        , -1.        , -1.        ,\n",
       "        0.33333333, -0.33333333,  0.33333333, -0.33333333,  0.33333333,\n",
       "        0.33333333,  0.33333333,  1.        , -0.33333333,  0.33333333,\n",
       "       -1.        , -0.33333333, -1.        , -1.        , -0.33333333,\n",
       "       -0.33333333, -0.33333333,  0.33333333, -0.33333333,  1.        ,\n",
       "       -0.33333333, -0.33333333, -1.        ,  1.        , -0.33333333,\n",
       "       -1.        , -0.33333333, -0.33333333,  0.33333333,  0.33333333,\n",
       "       -1.        , -0.33333333, -0.33333333, -1.        ,  0.33333333,\n",
       "       -1.        ,  0.33333333, -0.33333333, -0.33333333,  0.33333333,\n",
       "        0.33333333, -0.33333333, -0.33333333,  0.33333333, -0.33333333,\n",
       "       -1.        , -1.        , -1.        , -0.33333333, -0.33333333,\n",
       "        1.        ,  1.        ,  1.        ,  1.        , -0.33333333,\n",
       "        0.33333333, -0.33333333, -0.33333333, -0.33333333, -0.33333333,\n",
       "       -1.        ,  0.33333333, -0.33333333,  1.        , -0.33333333,\n",
       "       -0.33333333, -0.33333333,  0.33333333, -0.33333333, -0.33333333,\n",
       "        0.33333333, -0.33333333,  0.33333333,  0.33333333, -1.        ,\n",
       "        0.33333333, -1.        ,  1.        , -0.33333333, -0.33333333,\n",
       "        1.        , -1.        ,  0.33333333, -0.33333333, -0.33333333])"
      ]
     },
     "execution_count": 34,
     "metadata": {},
     "output_type": "execute_result"
    }
   ],
   "source": [
    "xneed_1"
   ]
  },
  {
   "cell_type": "code",
   "execution_count": null,
   "metadata": {},
   "outputs": [],
   "source": []
  }
 ],
 "metadata": {
  "kernelspec": {
   "display_name": "Python 3",
   "language": "python",
   "name": "python3"
  },
  "language_info": {
   "codemirror_mode": {
    "name": "ipython",
    "version": 3
   },
   "file_extension": ".py",
   "mimetype": "text/x-python",
   "name": "python",
   "nbconvert_exporter": "python",
   "pygments_lexer": "ipython3",
   "version": "3.7.4"
  }
 },
 "nbformat": 4,
 "nbformat_minor": 4
}
